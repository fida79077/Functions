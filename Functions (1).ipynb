{
  "nbformat": 4,
  "nbformat_minor": 0,
  "metadata": {
    "colab": {
      "provenance": []
    },
    "kernelspec": {
      "name": "python3",
      "display_name": "Python 3"
    },
    "language_info": {
      "name": "python"
    }
  },
  "cells": [
    {
      "cell_type": "markdown",
      "source": [
        "A function is a block of code which only runs when it is called.\n",
        "You can pass data , known as parameters , into a function\n",
        "A function can return data as a result."
      ],
      "metadata": {
        "id": "vB944chzfoR6"
      }
    },
    {
      "cell_type": "code",
      "execution_count": null,
      "metadata": {
        "colab": {
          "base_uri": "https://localhost:8080/"
        },
        "id": "TZ7jjf-8b4rw",
        "outputId": "6a896f68-e20c-471d-b3de-8731a7a385bc"
      },
      "outputs": [
        {
          "output_type": "stream",
          "name": "stdout",
          "text": [
            "fida\n",
            "21\n",
            "fida\n"
          ]
        }
      ],
      "source": [
        "#syntax\n",
        "\n",
        "def function_name(name , age):\n",
        "\n",
        "  print(name)\n",
        "  print(age)\n",
        "\n",
        "  return name\n",
        "\n",
        "print(function_name('fida' , 21))"
      ]
    },
    {
      "cell_type": "code",
      "source": [
        "#function without argument\n",
        "def function_name():\n",
        "\n",
        "  a = int(input('enter the number1 : '))\n",
        "  b = int(input('enter the number2 : '))\n",
        "\n",
        "  return a + b\n",
        "\n",
        "print(function_name())"
      ],
      "metadata": {
        "colab": {
          "base_uri": "https://localhost:8080/"
        },
        "id": "dwKGR6UdgzVU",
        "outputId": "74182774-71a5-4ffb-e1ae-933255b7ee3b"
      },
      "execution_count": null,
      "outputs": [
        {
          "output_type": "stream",
          "name": "stdout",
          "text": [
            "enter the number1 : 99\n",
            "enter the number2 : 1\n",
            "100\n"
          ]
        }
      ]
    },
    {
      "cell_type": "code",
      "source": [
        "#function with argumet\n",
        "def function_name(a,b):\n",
        "\n",
        "  a = int(input('enter the number1: '))\n",
        "  b = int(input('enter the number2: '))\n",
        "\n",
        "  return a+b\n",
        "\n",
        "print(function_name(4,6))"
      ],
      "metadata": {
        "colab": {
          "base_uri": "https://localhost:8080/"
        },
        "id": "OMPTdQgfhiGU",
        "outputId": "a7bdfc1d-0f68-4ec4-9ecd-a127d50ca6dd"
      },
      "execution_count": null,
      "outputs": [
        {
          "output_type": "stream",
          "name": "stdout",
          "text": [
            "enter the number1: 8\n",
            "enter the number2: 4\n",
            "12\n"
          ]
        }
      ]
    },
    {
      "cell_type": "code",
      "source": [
        "#function with argumet\n",
        "def function_name(a,b):\n",
        "\n",
        "  a = int(input('enter the number1: '))\n",
        "  b = int(input('enter the number2: '))\n",
        "\n",
        "  return a+b\n",
        "\n",
        "print(function_name(1,2))"
      ],
      "metadata": {
        "colab": {
          "base_uri": "https://localhost:8080/"
        },
        "id": "jgNQO8rViPsV",
        "outputId": "8f622b84-cd0d-43cf-c4ca-f4c55ec82a98"
      },
      "execution_count": null,
      "outputs": [
        {
          "output_type": "stream",
          "name": "stdout",
          "text": [
            "enter the number1: 8\n",
            "enter the number2: 3\n",
            "11\n"
          ]
        }
      ]
    },
    {
      "cell_type": "code",
      "source": [
        "#function without argumet and without return type\n",
        "def function_name():\n",
        "\n",
        "  a = int(input('enter the number1: '))\n",
        "  b = int(input('enter the number2: '))\n",
        "  sum = a+b\n",
        "  print(sum)\n",
        "\n",
        "\n",
        "print(function_name())"
      ],
      "metadata": {
        "colab": {
          "base_uri": "https://localhost:8080/"
        },
        "id": "AEnv6T79il42",
        "outputId": "b7fe3a59-4558-4584-8550-6121f83d4ecd"
      },
      "execution_count": null,
      "outputs": [
        {
          "output_type": "stream",
          "name": "stdout",
          "text": [
            "enter the number1: 85\n",
            "enter the number2: 44\n",
            "129\n",
            "None\n"
          ]
        }
      ]
    },
    {
      "cell_type": "code",
      "source": [
        "\n",
        "def function_name(a,b):\n",
        "\n",
        "  sub = a - b\n",
        "\n",
        "  return sub\n",
        "\n",
        "print(function_name(1,9))"
      ],
      "metadata": {
        "colab": {
          "base_uri": "https://localhost:8080/"
        },
        "id": "JTB-8QCTjAiE",
        "outputId": "21020b5a-151d-4956-da58-256014f687d7"
      },
      "execution_count": null,
      "outputs": [
        {
          "output_type": "stream",
          "name": "stdout",
          "text": [
            "-8\n"
          ]
        }
      ]
    },
    {
      "cell_type": "code",
      "source": [
        "# default arguments and non default arguments\n",
        "\n",
        "def sub(a ,b = 40):\n",
        "\n",
        "  if a > b :\n",
        "    sub = a - b\n",
        "  else :\n",
        "    sub = b - a\n",
        "\n",
        "  return sub\n",
        "\n",
        "print(sub(9))\n",
        "\n",
        "#non default arguments cann not be passed after default arguments"
      ],
      "metadata": {
        "id": "Ox6CSZOGjt1V",
        "colab": {
          "base_uri": "https://localhost:8080/"
        },
        "outputId": "58b60833-284d-4a1e-a7e8-f671774222d0"
      },
      "execution_count": null,
      "outputs": [
        {
          "output_type": "stream",
          "name": "stdout",
          "text": [
            "31\n"
          ]
        }
      ]
    },
    {
      "cell_type": "code",
      "source": [
        "# default arguments and non default arguments\n",
        "\n",
        "def add(a,c,d,b=80):\n",
        "   add = a+b+c+d\n",
        "   return add\n",
        "\n",
        "print (add(9,50,50,23))"
      ],
      "metadata": {
        "colab": {
          "base_uri": "https://localhost:8080/"
        },
        "id": "-lU88nxiuul3",
        "outputId": "19d2d7d7-12a8-4ff5-a818-164c52c1333e"
      },
      "execution_count": null,
      "outputs": [
        {
          "output_type": "stream",
          "name": "stdout",
          "text": [
            "132\n"
          ]
        }
      ]
    },
    {
      "cell_type": "code",
      "source": [
        "def sub(a ,b = 30 , c = 12):\n",
        "\n",
        "  if a > b :\n",
        "    sub = a - b\n",
        "  else :\n",
        "    sub = b - a\n",
        "\n",
        "  return sub\n",
        "\n",
        "print(sub(9))"
      ],
      "metadata": {
        "id": "JmCttc-fNygO",
        "colab": {
          "base_uri": "https://localhost:8080/"
        },
        "outputId": "2908af87-8b5d-497d-fcee-0f016ac2a5dc"
      },
      "execution_count": null,
      "outputs": [
        {
          "output_type": "stream",
          "name": "stdout",
          "text": [
            "21\n"
          ]
        }
      ]
    },
    {
      "cell_type": "code",
      "source": [
        "def factorial (num):\n",
        "  factorial = 1\n",
        "\n",
        "  if num < 0:\n",
        "    print('factorial does not exist for nagative numbers ')\n",
        "\n",
        "  elif num == 0 :\n",
        "   print('factorial of zero is 1')\n",
        "\n",
        "  else :\n",
        "    for i in range (1 , num + 1 ):\n",
        "\n",
        "      factorial = factorial * i\n",
        "\n",
        "  return factorial\n",
        "\n",
        "print(factorial(5))\n"
      ],
      "metadata": {
        "colab": {
          "base_uri": "https://localhost:8080/"
        },
        "id": "Iw5lqketp1al",
        "outputId": "cfe94476-a6e3-428e-9942-3898ed4dea89"
      },
      "execution_count": null,
      "outputs": [
        {
          "output_type": "stream",
          "name": "stdout",
          "text": [
            "120\n"
          ]
        }
      ]
    },
    {
      "cell_type": "code",
      "source": [
        "def sum1 (a,b,c):\n",
        "  sum2 = a+b+c\n",
        "  return sum2\n",
        "print(sum1(50,60,53))"
      ],
      "metadata": {
        "colab": {
          "base_uri": "https://localhost:8080/"
        },
        "id": "ZZqZN1yjsa0K",
        "outputId": "fa13ad79-0f99-45a3-9551-68a6dd11a28b"
      },
      "execution_count": null,
      "outputs": [
        {
          "output_type": "stream",
          "name": "stdout",
          "text": [
            "163\n"
          ]
        }
      ]
    },
    {
      "cell_type": "code",
      "source": [
        "def sum1 (*args):\n",
        "  print(*args)\n",
        "\n",
        "   #sum2 = sum (*args)\n",
        "   #return sum2\n",
        "print(sum1(50,60,53,56,52,87,12,54))"
      ],
      "metadata": {
        "colab": {
          "base_uri": "https://localhost:8080/"
        },
        "id": "N9ww6LoCwsR5",
        "outputId": "43698803-50e2-4118-e3e4-60a32c78f767"
      },
      "execution_count": null,
      "outputs": [
        {
          "output_type": "stream",
          "name": "stdout",
          "text": [
            "50 60 53 56 52 87 12 54\n",
            "None\n"
          ]
        }
      ]
    },
    {
      "cell_type": "code",
      "source": [
        "def func(string):\n",
        "\n",
        "  vowels = 'aeiouAEIOU'\n",
        "\n",
        "  for i in string:\n",
        "\n",
        "    if i in vowels:\n",
        "      string = string.replace(i, '')\n",
        "\n",
        "  return string\n",
        "\n",
        "print(func('fidarasheed'))"
      ],
      "metadata": {
        "colab": {
          "base_uri": "https://localhost:8080/"
        },
        "id": "dj33G6lMxSeQ",
        "outputId": "eafe599d-551c-403b-acac-abca57a4f913"
      },
      "execution_count": null,
      "outputs": [
        {
          "output_type": "stream",
          "name": "stdout",
          "text": [
            "fdrshd\n"
          ]
        }
      ]
    },
    {
      "cell_type": "markdown",
      "source": [
        "**DECORATOR FUNCTION**"
      ],
      "metadata": {
        "id": "wKBuj4GbzYCI"
      }
    },
    {
      "cell_type": "code",
      "source": [
        "def sub (n1 , n2):\n",
        "\n",
        "  return n1 - n2\n",
        "\n",
        "def div (n1 , n2):\n",
        "\n",
        "  return n1/n2\n",
        "\n",
        "print(sub(4,12))\n",
        "print(div(5,10))\n"
      ],
      "metadata": {
        "colab": {
          "base_uri": "https://localhost:8080/"
        },
        "id": "Dch_6SQ-y14z",
        "outputId": "e8b9b8eb-a757-4726-fa64-949cd86da2bd"
      },
      "execution_count": null,
      "outputs": [
        {
          "output_type": "stream",
          "name": "stdout",
          "text": [
            "-8\n",
            "0.5\n"
          ]
        }
      ]
    },
    {
      "cell_type": "code",
      "source": [
        "def sub (n1 , n2):\n",
        "\n",
        "  if n1<n2:\n",
        "    (n1 , n2) = (n2 , n1)\n",
        "\n",
        "  return n1 - n2\n",
        "\n",
        "def div (n1 , n2):\n",
        "\n",
        "  if n1<n2:\n",
        "    (n1 , n2) = (n2 , n1)\n",
        "\n",
        "  return n1/n2\n",
        "\n",
        "print(sub(4,8))\n",
        "\n",
        "print(div(10,5))\n"
      ],
      "metadata": {
        "colab": {
          "base_uri": "https://localhost:8080/"
        },
        "id": "lPFg-tBk1HNX",
        "outputId": "034c6173-c7ca-4caa-dc20-99b559b0278a"
      },
      "execution_count": null,
      "outputs": [
        {
          "output_type": "stream",
          "name": "stdout",
          "text": [
            "4\n",
            "2.0\n"
          ]
        }
      ]
    },
    {
      "cell_type": "code",
      "source": [
        "def swap_num(fn):   #decorator function\n",
        "\n",
        "  def wrapper(n1 , n2):\n",
        "\n",
        "     if n1<n2:\n",
        "\n",
        "      (n1 , n2) = (n2 , n1)\n",
        "\n",
        "     return fn(n1 , n2)\n",
        "\n",
        "  return wrapper\n",
        "\n",
        "@swap_num\n",
        "def sub(n1 , n2):\n",
        "\n",
        "  return n1 - n2\n",
        "\n",
        "@swap_num\n",
        "def div (n1 , n2):\n",
        "\n",
        "  return n1/n2\n",
        "\n",
        "print(sub(4,12))\n",
        "\n",
        "print(div(10,5))\n"
      ],
      "metadata": {
        "colab": {
          "base_uri": "https://localhost:8080/"
        },
        "id": "khjSm1Mi10st",
        "outputId": "5dd40f2a-4c3c-42d1-b529-18457d0ed39a"
      },
      "execution_count": null,
      "outputs": [
        {
          "output_type": "stream",
          "name": "stdout",
          "text": [
            "8\n",
            "2.0\n"
          ]
        }
      ]
    },
    {
      "cell_type": "code",
      "source": [],
      "metadata": {
        "id": "86OhXJbc5PIs"
      },
      "execution_count": null,
      "outputs": []
    }
  ]
}